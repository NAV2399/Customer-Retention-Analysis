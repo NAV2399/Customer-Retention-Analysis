{
 "cells": [
  {
   "cell_type": "markdown",
   "metadata": {},
   "source": [
    "Customer Retention Analysis\n",
    "\n",
    "Step :1\n",
    "\n",
    "   Merging the data of the dataset to reduce the complexity\n",
    "   "
   ]
  },
  {
   "cell_type": "code",
   "execution_count": 13,
   "metadata": {},
   "outputs": [],
   "source": [
    "import pandas as pd\n",
    "\n",
    "# Load core datasets\n",
    "orders = pd.read_csv(r\"E:\\OneDrive\\Desktop\\Customer Retention Analysis\\data\\raw-data\\olist_orders_dataset.csv\")\n",
    "customers = pd.read_csv(r\"E:\\OneDrive\\Desktop\\Customer Retention Analysis\\data\\raw-data\\olist_customers_dataset.csv\")\n",
    "order_items = pd.read_csv(r\"E:\\OneDrive\\Desktop\\Customer Retention Analysis\\data\\raw-data\\olist_order_items_dataset.csv\")\n",
    "payments = pd.read_csv(r\"E:\\OneDrive\\Desktop\\Customer Retention Analysis\\data\\raw-data\\olist_order_payments_dataset.csv\")\n",
    "reviews = pd.read_csv(r\"E:\\OneDrive\\Desktop\\Customer Retention Analysis\\data\\raw-data\\olist_order_reviews_dataset.csv\")\n",
    "\n",
    "# Merge orders with customers\n",
    "merged = pd.merge(orders, customers, on='customer_id', how='left')\n",
    "\n",
    "# Merge with order items\n",
    "merged = pd.merge(merged, order_items, on='order_id', how='left')\n",
    "\n",
    "# Merge with payments\n",
    "merged = pd.merge(merged, payments, on='order_id', how='left')\n",
    "\n",
    "# Merge with reviews\n",
    "merged = pd.merge(merged, reviews[['order_id', 'review_score']], on='order_id', how='left')\n"
   ]
  },
  {
   "cell_type": "markdown",
   "metadata": {},
   "source": [
    "Saving the merged data into a Parquet file\n"
   ]
  },
  {
   "cell_type": "code",
   "execution_count": 14,
   "metadata": {},
   "outputs": [],
   "source": [
    "\n",
    "# Save merged data\n",
    "merged.to_parquet(r\"E:\\OneDrive\\Desktop\\Customer Retention Analysis\\data\\processed\\merged_data.parquet\", index=False)\n"
   ]
  },
  {
   "cell_type": "code",
   "execution_count": 15,
   "metadata": {},
   "outputs": [],
   "source": [
    "# Load product data and translation file\n",
    "products = pd.read_csv(r\"E:\\OneDrive\\Desktop\\Customer Retention Analysis\\data\\raw-data\\olist_products_dataset.csv\")\n",
    "translation = pd.read_csv(r\"E:\\OneDrive\\Desktop\\Customer Retention Analysis\\data\\raw-data\\product_category_name_translation.csv\")\n",
    "\n",
    "# Translate category names\n",
    "products = pd.merge(products, translation, on='product_category_name', how='left')\n",
    "\n",
    "# Merge with main dataset\n",
    "merged = pd.merge(merged, products[['product_id', 'product_category_name_english']], on='product_id', how='left')"
   ]
  },
  {
   "cell_type": "markdown",
   "metadata": {},
   "source": [
    "Step : 2 \n",
    "\n",
    "Data Cleaning and Preprocessing"
   ]
  },
  {
   "cell_type": "code",
   "execution_count": 16,
   "metadata": {},
   "outputs": [],
   "source": [
    "# Drop orders with missing critical fields (customer_id, order_id)\n",
    "merged.dropna(subset=['customer_id', 'order_id'], inplace=True)\n",
    "\n",
    "# Fill missing review scores with median - Fix the chained assignment\n",
    "# Instead of:\n",
    "# merged['review_score'].fillna(merged['review_score'].median(), inplace=True)\n",
    "merged['review_score'] = merged['review_score'].fillna(merged['review_score'].median())\n",
    "\n",
    "# Convert date columns to datetime\n",
    "merged['order_purchase_timestamp'] = pd.to_datetime(merged['order_purchase_timestamp'])"
   ]
  },
  {
   "cell_type": "markdown",
   "metadata": {},
   "source": [
    "Keeping only the valid order and dropping the other for better analysis"
   ]
  },
  {
   "cell_type": "code",
   "execution_count": 17,
   "metadata": {},
   "outputs": [],
   "source": [
    "# Remove canceled/unavailable orders\n",
    "valid_statuses = ['delivered', 'shipped', 'invoiced']\n",
    "merged = merged[merged['order_status'].isin(valid_statuses)]"
   ]
  },
  {
   "cell_type": "markdown",
   "metadata": {},
   "source": [
    "Step : 3 \n",
    "\n",
    "Feature Engineering"
   ]
  },
  {
   "cell_type": "code",
   "execution_count": 18,
   "metadata": {},
   "outputs": [],
   "source": [
    "merged['monetary_value'] = merged['price'] + merged['freight_value']"
   ]
  },
  {
   "cell_type": "code",
   "execution_count": 19,
   "metadata": {},
   "outputs": [],
   "source": [
    "# Group by customer_id\n",
    "customer_data = merged.groupby('customer_id').agg(\n",
    "    first_purchase_date=('order_purchase_timestamp', 'min'),\n",
    "    last_purchase_date=('order_purchase_timestamp', 'max'),\n",
    "    total_orders=('order_id', 'nunique'),\n",
    "    total_spent=('monetary_value', 'sum'),\n",
    "    avg_review_score=('review_score', 'mean')\n",
    ").reset_index()"
   ]
  }
 ],
 "metadata": {
  "kernelspec": {
   "display_name": "Python 3",
   "language": "python",
   "name": "python3"
  },
  "language_info": {
   "codemirror_mode": {
    "name": "ipython",
    "version": 3
   },
   "file_extension": ".py",
   "mimetype": "text/x-python",
   "name": "python",
   "nbconvert_exporter": "python",
   "pygments_lexer": "ipython3",
   "version": "3.11.9"
  }
 },
 "nbformat": 4,
 "nbformat_minor": 2
}
